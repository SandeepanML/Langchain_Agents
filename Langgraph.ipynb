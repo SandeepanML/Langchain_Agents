{
 "cells": [
  {
   "cell_type": "markdown",
   "id": "e7acf40c",
   "metadata": {},
   "source": [
    "## Basic Project of a Langgraph"
   ]
  },
  {
   "cell_type": "code",
   "execution_count": 10,
   "id": "419f951c",
   "metadata": {},
   "outputs": [],
   "source": [
    "from typing import Annotated, TypedDict\n",
    "from langgraph.graph import StateGraph, START, END\n",
    "from langgraph.graph.message import add_messages\n",
    "from langgraph.graph import StateGraph, START, END\n",
    "from langchain_ollama import ChatOllama\n",
    "from IPython.display import display, Image"
   ]
  },
  {
   "cell_type": "code",
   "execution_count": 4,
   "id": "4cdba669",
   "metadata": {},
   "outputs": [],
   "source": [
    "base_url = \"http://localhost:11434\"\n",
    "model = 'llama3.2:1b'\n",
    "\n",
    "llm = ChatOllama(\n",
    "    base_url=base_url,\n",
    "    model = model,\n",
    "    temperature=0.8,\n",
    "    num_predict = 256\n",
    ")"
   ]
  },
  {
   "cell_type": "code",
   "execution_count": 6,
   "id": "d8158f5f",
   "metadata": {},
   "outputs": [
    {
     "data": {
      "text/plain": [
       "AIMessage(content=\"I'm not able to access or display your IP address at this time. However, I can tell you that an IP address is a unique numerical identifier assigned to each device connected to the internet. It's usually in the format of `xxx.xxx.xxx.xxx`, where `xxx` is a group of three digits.\\n\\nIf you need to know your IP address, you can try checking your device's network settings or looking for it on the device itself. Alternatively, you can use a simple online tool or app to find your public IP address and see what it looks like.\", additional_kwargs={}, response_metadata={'model': 'llama3.2:1b', 'created_at': '2025-05-04T05:52:24.5567569Z', 'message': {'role': 'assistant', 'content': ''}, 'done_reason': 'stop', 'done': True, 'total_duration': 8255711900, 'load_duration': 4682946500, 'prompt_eval_count': 29, 'prompt_eval_duration': 665752900, 'eval_count': 115, 'eval_duration': 2898850300}, id='run-45f0b961-8c4d-47db-8016-adcafbb533d8-0', usage_metadata={'input_tokens': 29, 'output_tokens': 115, 'total_tokens': 144})"
      ]
     },
     "execution_count": 6,
     "metadata": {},
     "output_type": "execute_result"
    }
   ],
   "source": [
    "llm.invoke('what my IPv4')"
   ]
  },
  {
   "cell_type": "code",
   "execution_count": 11,
   "id": "078728f7",
   "metadata": {},
   "outputs": [],
   "source": [
    "class State(TypedDict):\n",
    "    messages: Annotated[list, add_messages]\n",
    "\n",
    "def chatbot(state: State):\n",
    "    response = llm.invoke(state[\"messages\"])\n",
    "    return {\"messages\": [response]}\n",
    "\n",
    "graph_builder = StateGraph(State)\n",
    "graph_builder.add_node(\"chatbot\", chatbot)\n",
    "graph_builder.add_edge(START, \"chatbot\")\n",
    "graph_builder.add_edge(\"chatbot\", END)\n",
    "graph = graph_builder.compile()"
   ]
  },
  {
   "cell_type": "code",
   "execution_count": 12,
   "id": "d4637df2",
   "metadata": {},
   "outputs": [
    {
     "data": {
      "image/png": "[encoded data removed]",
      "text/plain": [
       "<IPython.core.display.Image object>"
      ]
     },
     "metadata": {},
     "output_type": "display_data"
    }
   ],
   "source": [
    "display(Image(graph.get_graph().draw_mermaid_png()))"
   ]
  },
  {
   "cell_type": "code",
   "execution_count": 14,
   "id": "a5b9e6e5",
   "metadata": {},
   "outputs": [
    {
     "data": {
      "text/plain": [
       "{'messages': [HumanMessage(content='How many planets are then our solar system ?', additional_kwargs={}, response_metadata={}, id='b43d1d18-0884-443d-a2c8-946bab7c27c6'),\n",
       "  HumanMessage(content='Explain why pluto is not included ?', additional_kwargs={}, response_metadata={}, id='4f8029b2-f83d-4835-834b-555a6910267f'),\n",
       "  AIMessage(content='There are eight planets in our solar system:\\n\\n1. Mercury\\n2. Mars\\n3. Venus\\n4. Earth\\n5. Neptune\\n6. Uranus\\n7. Saturn\\n8. Jupiter\\n\\nPluto was previously considered the ninth planet, but in 2006, it was reclassified as a dwarf planet by the International Astronomical Union (IAU). This decision was made after the discovery of several other objects in the Kuiper Belt that were similar in size and composition to Pluto.\\n\\nThe main reasons for the reclassification of Pluto are:\\n\\n1. Size: Pluto is relatively small, with a diameter of approximately 2,374 kilometers. In comparison, Mercury, the smallest planet, has a diameter of approximately 4,879 kilometers.\\n2. Orbit: Pluto orbits the Sun at a distance of approximately 5.9 billion kilometers, which is similar to the orbit of Neptune. However, it takes about 248 Earth years for Pluto to complete one orbit around the Sun.\\n3. Moons: Pluto has five known moons, but these are not as large or significant as those of other planets in the solar system.\\n\\nThe IAU defined a planet as a celestial body that:\\n\\n1. Is in orbit around the Sun.\\n2. Has sufficient mass', additional_kwargs={}, response_metadata={'model': 'llama3.2:1b', 'created_at': '2025-05-04T07:09:29.6708904Z', 'message': {'role': 'assistant', 'content': ''}, 'done_reason': 'length', 'done': True, 'total_duration': 6969257400, 'load_duration': 68225900, 'prompt_eval_count': 43, 'prompt_eval_duration': 40071400, 'eval_count': 256, 'eval_duration': 6859746900}, id='run-6790ab8a-661b-481f-861d-c3078f791c7b-0', usage_metadata={'input_tokens': 43, 'output_tokens': 256, 'total_tokens': 299})]}"
      ]
     },
     "execution_count": 14,
     "metadata": {},
     "output_type": "execute_result"
    }
   ],
   "source": [
    "graph.invoke({\"messages\":[\"How many planets are then our solar system ?\", \"Explain why pluto is not included ?\"]})"
   ]
  },
  {
   "cell_type": "markdown",
   "id": "32b680e4",
   "metadata": {},
   "source": [
    "## Type Hinting, Data Validation"
   ]
  },
  {
   "cell_type": "code",
   "execution_count": 18,
   "id": "3053293b",
   "metadata": {},
   "outputs": [],
   "source": [
    "class Animal:\n",
    "    def __init__(self, name):\n",
    "        self.name = name.lower()\n",
    "\n",
    "    def speak(self):\n",
    "        if self.name == \"dog\":\n",
    "            return \"Dogs Barks\"\n",
    "        else:\n",
    "            return \"Cat Meaows\""
   ]
  },
  {
   "cell_type": "code",
   "execution_count": 19,
   "metadata": {},
   "outputs": [],
   "source": [
    "ani = Animal(\"Dog\")"
   ]
  },
  {
   "cell_type": "code",
   "execution_count": 20,
   "id": "da45f019",
   "metadata": {},
   "outputs": [
    {
     "data": {
      "text/plain": [
       "'Dogs Barks'"
      ]
     },
     "execution_count": 20,
     "metadata": {},
     "output_type": "execute_result"
    }
   ],
   "source": [
    "ani.speak()"
   ]
  },
  {
   "cell_type": "markdown",
   "id": "caa0e48e",
   "metadata": {},
   "source": [
    "## Static Type Hinting"
   ]
  },
  {
   "cell_type": "code",
   "execution_count": 23,
   "id": "7f74c14e",
   "metadata": {},
   "outputs": [
    {
     "data": {
      "text/plain": [
       "'Hello, Sandeepan'"
      ]
     },
     "execution_count": 23,
     "metadata": {},
     "output_type": "execute_result"
    }
   ],
   "source": [
    "def greeting(name: str) -> str:\n",
    "    return f\"Hello, {name}\"\n",
    "\n",
    "greeting(\"Sandeepan\")"
   ]
  },
  {
   "cell_type": "code",
   "execution_count": null,
   "id": "eb6a1a46",
   "metadata": {},
   "outputs": [],
   "source": [
    "def add(a:int, b:int) -> int:\n",
    "    return a + b\n",
    "\n",
    "add(1, 2)"
   ]
  },
  {
   "cell_type": "code",
   "execution_count": 27,
   "id": "0f4e4d5d",
   "metadata": {},
   "outputs": [
    {
     "data": {
      "text/plain": [
       "5.0"
      ]
     },
     "execution_count": 27,
     "metadata": {},
     "output_type": "execute_result"
    }
   ],
   "source": [
    "def average(num: list[int]) -> float:\n",
    "    return sum(num)/len(num)\n",
    "\n",
    "average([1, 2, 3, 4, 5, 6, 7, 8, 9])"
   ]
  },
  {
   "cell_type": "markdown",
   "id": "1de6a933",
   "metadata": {},
   "source": [
    "## Static Type Hinting using TypedDict "
   ]
  },
  {
   "cell_type": "code",
   "execution_count": 31,
   "id": "cbc552c8",
   "metadata": {},
   "outputs": [],
   "source": [
    "from typing import TypedDict, Annotated, Optional, Literal\n",
    "from pydantic import BaseModel, Field, EmailStr"
   ]
  },
  {
   "cell_type": "code",
   "execution_count": 34,
   "id": "29104116",
   "metadata": {},
   "outputs": [
    {
     "name": "stdout",
     "output_type": "stream",
     "text": [
      "User data: {'name': 'Sandeepan', 'age': 30, 'email': 'example@gmail.com'}\n"
     ]
    }
   ],
   "source": [
    "class UserData(TypedDict):\n",
    "    name: str\n",
    "    age: int\n",
    "    email: str\n",
    "\n",
    "user_data = {\"name\":\"Sandeepan\", \"age\":30, \"email\":\"example@gmail.com\"}\n",
    "data = UserData(user_data)\n",
    "print(\"User data:\", data)"
   ]
  },
  {
   "cell_type": "markdown",
   "id": "ad04360f",
   "metadata": {},
   "source": [
    "## Dynamic Type Hinting using Pydantic \n",
    "- Using Pydantic BaseModel for validation in runtime"
   ]
  },
  {
   "cell_type": "code",
   "execution_count": 35,
   "id": "c5fa23a8",
   "metadata": {},
   "outputs": [],
   "source": [
    "class UserModel(BaseModel):\n",
    "    name: str = Field(description=\"Name of the User\")\n",
    "    age: int = Field(description=\"Age of the user\")\n",
    "    gender: Optional[Literal[\"male\", \"female\", \"other\"]] = \"other\""
   ]
  },
  {
   "cell_type": "code",
   "execution_count": 36,
   "id": "560aeb24",
   "metadata": {},
   "outputs": [],
   "source": [
    "data = UserModel(name=\"Sandeepan\", age=20, gender=\"male\")"
   ]
  },
  {
   "cell_type": "code",
   "execution_count": 37,
   "id": "2d38922b",
   "metadata": {},
   "outputs": [
    {
     "name": "stdout",
     "output_type": "stream",
     "text": [
      "name='Sandeepan' age=20 gender='male'\n"
     ]
    }
   ],
   "source": [
    "print(data)"
   ]
  },
  {
   "cell_type": "markdown",
   "id": "bc4616a8",
   "metadata": {},
   "source": [
    "## Chat with LangGraph - Baby Step Towards Agents"
   ]
  },
  {
   "cell_type": "code",
   "execution_count": null,
   "id": "b1ca7d68",
   "metadata": {},
   "outputs": [],
   "source": [
    "from typing import Annotated, TypedDict\n",
    "from langgraph.graph import StateGraph, START, END\n",
    "from langgraph.graph.message import add_messages\n",
    "from langgraph.graph import StateGraph, START, END\n",
    "from langchain_ollama import ChatOllama\n",
    "from IPython.display import display, Image\n",
    "\n",
    "base_url = \"http://localhost:11434\"\n",
    "model = 'llama3.2:1b'\n",
    "\n",
    "llm = ChatOllama(\n",
    "    base_url=base_url,\n",
    "    model = model,\n",
    "    temperature=0.8,\n",
    "    num_predict = 256\n",
    ")\n",
    "\n",
    "class State(TypedDict):\n",
    "    messages: Annotated[list, add_messages]\n",
    "\n",
    "def chatbot(state: State):\n",
    "    response = llm.invoke(state[\"messages\"])\n",
    "    return {\"messages\": [response]}\n",
    "\n",
    "graph_builder = StateGraph(State)\n",
    "graph_builder.add_node(\"chatbot\", chatbot)\n",
    "graph_builder.add_edge(START, \"chatbot\")\n",
    "graph_builder.add_edge(\"chatbot\", END)\n",
    "graph = graph_builder.compile()"
   ]
  },
  {
   "cell_type": "code",
   "execution_count": 39,
   "id": "c8cd6b80",
   "metadata": {},
   "outputs": [
    {
     "data": {
      "text/plain": [
       "{'messages': [HumanMessage(content='How many planets are then our solar system ?', additional_kwargs={}, response_metadata={}, id='baf1470b-c7ac-4423-b5c1-15bb254504eb'),\n",
       "  HumanMessage(content='Explain why pluto is not included ?', additional_kwargs={}, response_metadata={}, id='a9264bf7-5661-4e6e-8311-0720e6391132'),\n",
       "  AIMessage(content='Our solar system consists of eight planets, which can be divided into two categories: the inner planets and the outer planets.\\n\\nThe eight planets in our solar system, in order from the Sun, are:\\n\\n1. Mercury\\n2. Venus\\n3. Earth\\n4. Mars\\n5. Jupiter\\n6. Saturn\\n7. Uranus\\n8. Neptune\\n\\nPluto, on the other hand, was previously considered to be the ninth planet in our solar system. However, in 2006, the International Astronomical Union (IAU) redefined the term \"planet\" and reclassified Pluto as a dwarf planet.\\n\\nThe main reason for this reclassification is that Pluto does not meet the new criteria for a planet established by the IAU. The IAU defined a planet as a celestial body that:\\n\\n1. Is in orbit around the Sun.\\n2. Has sufficient mass to assume a hydrostatic equilibrium shape (i.e., it\\'s nearly round in shape).\\n3. Has cleared the neighborhood around its orbit.\\n\\nPluto does not meet the third criterion because its orbit overlaps with other objects in the Kuiper Belt, a region of icy bodies beyond Neptune. In fact, there are many other objects in the Kuiper Belt that are similar in size and composition to', additional_kwargs={}, response_metadata={'model': 'llama3.2:1b', 'created_at': '2025-05-04T14:48:25.7270746Z', 'message': {'role': 'assistant', 'content': ''}, 'done_reason': 'length', 'done': True, 'total_duration': 12374117600, 'load_duration': 4820351400, 'prompt_eval_count': 43, 'prompt_eval_duration': 773599200, 'eval_count': 256, 'eval_duration': 6774013500}, id='run-83369fa1-aace-4978-b043-df011d64da38-0', usage_metadata={'input_tokens': 43, 'output_tokens': 256, 'total_tokens': 299})]}"
      ]
     },
     "execution_count": 39,
     "metadata": {},
     "output_type": "execute_result"
    }
   ],
   "source": [
    "graph.invoke({\"messages\":[\"How many planets are then our solar system ?\", \"Explain why pluto is not included ?\"]})"
   ]
  },
  {
   "cell_type": "code",
   "execution_count": null,
   "id": "4d7d567d",
   "metadata": {},
   "outputs": [],
   "source": []
  },
  {
   "cell_type": "code",
   "execution_count": null,
   "id": "d96dddd2",
   "metadata": {},
   "outputs": [],
   "source": []
  },
  {
   "cell_type": "code",
   "execution_count": null,
   "id": "fe756ba5",
   "metadata": {},
   "outputs": [],
   "source": []
  },
  {
   "cell_type": "code",
   "execution_count": null,
   "id": "6a0d3c11",
   "metadata": {},
   "outputs": [],
   "source": []
  },
  {
   "cell_type": "code",
   "execution_count": null,
   "id": "0c688166",
   "metadata": {},
   "outputs": [],
   "source": []
  },
  {
   "cell_type": "code",
   "execution_count": null,
   "id": "31788d0f",
   "metadata": {},
   "outputs": [],
   "source": []
  },
  {
   "cell_type": "code",
   "execution_count": null,
   "id": "80a1a9be",
   "metadata": {},
   "outputs": [],
   "source": []
  },
  {
   "cell_type": "code",
   "execution_count": null,
   "id": "604cfdda",
   "metadata": {},
   "outputs": [],
   "source": []
  },
  {
   "cell_type": "code",
   "execution_count": null,
   "id": "57780a82",
   "metadata": {},
   "outputs": [],
   "source": []
  },
  {
   "cell_type": "code",
   "execution_count": null,
   "id": "1b4d02bb",
   "metadata": {},
   "outputs": [],
   "source": []
  },
  {
   "cell_type": "code",
   "execution_count": null,
   "id": "3c0a2172",
   "metadata": {},
   "outputs": [],
   "source": []
  },
  {
   "cell_type": "code",
   "execution_count": null,
   "id": "0e8c8d63",
   "metadata": {},
   "outputs": [],
   "source": []
  },
  {
   "cell_type": "code",
   "execution_count": null,
   "id": "899ff0a8",
   "metadata": {},
   "outputs": [],
   "source": []
  }
 ],
 "metadata": {
  "kernelspec": {
   "display_name": "ml",
   "language": "python",
   "name": "python3"
  },
  "language_info": {
   "codemirror_mode": {
    "name": "ipython",
    "version": 3
   },
   "file_extension": ".py",
   "mimetype": "text/x-python",
   "name": "python",
   "nbconvert_exporter": "python",
   "pygments_lexer": "ipython3",
   "version": "3.12.4"
  }
 },
 "nbformat": 4,
 "nbformat_minor": 5
}
